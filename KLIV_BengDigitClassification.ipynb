{
 "cells": [
  {
   "cell_type": "code",
   "execution_count": 2,
   "metadata": {},
   "outputs": [],
   "source": [
    "import pandas as pd\n",
    "import numpy as np\n",
    "from __future__ import print_function, division\n",
    "\n",
    "import os\n",
    "import torch\n",
    "from skimage import io, transform\n",
    "import matplotlib.pyplot as plt \n",
    "from torch.utils.data import DataLoader, Dataset\n",
    "from torchvision import transforms, utils\n",
    "\n",
    "# Ignoring warnings\n",
    "import warnings\n",
    "warnings.filterwarnings(\"ignore\")\n",
    "plt.ion() # To initiate interactive mode"
   ]
  },
  {
   "cell_type": "code",
   "execution_count": 7,
   "metadata": {},
   "outputs": [
    {
     "name": "stdout",
     "output_type": "stream",
     "text": [
      "1392\n",
      "Image Name : digit_115.jpg\n",
      "Image Label :4\n"
     ]
    }
   ],
   "source": [
    "import random\n",
    "labels_frame= pd.read_excel('/home/sps/Rajdeep_pytorch/BDRW_train_2/labels.xls')\n",
    "print(len(labels_frame))\n",
    "n=random.randint(0,200)\n",
    "img_name_int= labels_frame.iloc[n,0]\n",
    "img_name=img_name_int+'.jpg'\n",
    "label= labels_frame.iloc[n,1]\n",
    "print('Image Name : {}'.format(img_name))\n",
    "print('Image Label :{}'.format(label))"
   ]
  },
  {
   "cell_type": "code",
   "execution_count": 8,
   "metadata": {},
   "outputs": [
    {
     "name": "stdout",
     "output_type": "stream",
     "text": [
      "The image shown below is: 4\n",
      "The size of the image:(29, 15, 3) \n"
     ]
    },
    {
     "data": {
      "image/png": "[encoded data removed]",
      "text/plain": [
       "<matplotlib.figure.Figure at 0x7fb4d9568450>"
      ]
     },
     "metadata": {},
     "output_type": "display_data"
    }
   ],
   "source": [
    "def show_imlab (image, label):\n",
    "    sample={'image':image, 'label': label}\n",
    "    plt.imshow(image)\n",
    "    print('The image shown below is: {}'.format(label))\n",
    "    print('The size of the image:{} '.format(image.shape))\n",
    "plt.figure()\n",
    "show_imlab(io.imread(os.path.join('BDRW_train_1/',img_name)),label)\n",
    "plt.show()"
   ]
  },
  {
   "cell_type": "code",
   "execution_count": 45,
   "metadata": {},
   "outputs": [],
   "source": [
    "height=32\n",
    "width=32\n",
    "import glob\n",
    "from PIL import Image,ImageOps\n",
    "for infile in glob.glob(\"/home/sps/Rajdeep_pytorch/BDRW_train_1/*.jpg\"):\n",
    "    file,ext= os.path.splitext(infile)\n",
    "    im=Image.open(infile)\n",
    "    im_new=ImageOps.fit(im,(width,height),Image.BICUBIC)\n",
    "    im_new.save(file + \".jpg\")\n",
    "for infile in glob.glob(\"/home/sps/Rajdeep_pytorch/BDRW_train_2/*.jpg\"):\n",
    "    file,ext= os.path.splitext(infile)\n",
    "    im=Image.open(infile)\n",
    "    im_new=ImageOps.fit(im,(width,height),Image.BICUBIC)\n",
    "    im_new.save(file + \".jpg\")"
   ]
  },
  {
   "cell_type": "code",
   "execution_count": 46,
   "metadata": {},
   "outputs": [
    {
     "name": "stdout",
     "output_type": "stream",
     "text": [
      "(32, 32)\n",
      "(32, 32)\n"
     ]
    },
    {
     "data": {
      "text/plain": [
       "<matplotlib.image.AxesImage at 0x7fb4d9444410>"
      ]
     },
     "execution_count": 46,
     "metadata": {},
     "output_type": "execute_result"
    },
    {
     "data": {
      "image/png": "[encoded data removed]",
      "text/plain": [
       "<matplotlib.figure.Figure at 0x7fb4d926a750>"
      ]
     },
     "metadata": {},
     "output_type": "display_data"
    }
   ],
   "source": [
    "I=Image.open('/home/sps/Rajdeep_pytorch/BDRW_train_1/digit_1033.jpg')\n",
    "print(I.size)\n",
    "t=Image.open('/home/sps/Rajdeep_pytorch/BDRW_train_2/digit_1133.jpg')\n",
    "print(t.size)\n",
    "plt.imshow(t)"
   ]
  },
  {
   "cell_type": "code",
   "execution_count": 47,
   "metadata": {},
   "outputs": [],
   "source": [
    "class TrainLoad(Dataset):\n",
    "    def __init__(self,excel_file,root_dir,transform=None):\n",
    "        self.df=pd.read_excel(excel_file)\n",
    "        self.labels_frame=self.df.iloc[0:983,0:3]\n",
    "        self.root_dir= root_dir\n",
    "        self.transform=transform\n",
    "    def __len__(self):\n",
    "        return len(self.labels_frame)\n",
    "    def __getitem__(self,idx):\n",
    "        img_name_int=os.path.join(self.root_dir,self.labels_frame.iloc[idx,0])\n",
    "        img_name=img_name_int+'.jpg'\n",
    "        image=io.imread(img_name)\n",
    "        label= self.labels_frame.iloc[idx,1]\n",
    "        image = image.transpose((2, 0, 1))\n",
    "        image = torch.from_numpy(image)\n",
    "        image = image.new_tensor(image, dtype = torch.float)\n",
    "        sample={'image':image, 'label': label}\n",
    "        \n",
    "        if self.transform:\n",
    "            sample=self.transform(sample)\n",
    "        return sample"
   ]
  },
  {
   "cell_type": "code",
   "execution_count": 48,
   "metadata": {},
   "outputs": [],
   "source": [
    "class TestLoad(Dataset):\n",
    "    def __init__(self,excel_file,root_dir,transform=None):\n",
    "        self.df=pd.read_excel(excel_file)\n",
    "        self.labels_frame=self.df.iloc[984:,0:3]\n",
    "        self.root_dir= root_dir\n",
    "        self.transform=transform\n",
    "    def __len__(self):\n",
    "        return len(self.labels_frame)\n",
    "    def __getitem__(self,idx):\n",
    "        img_name_int=os.path.join(self.root_dir,self.labels_frame.iloc[idx,0])\n",
    "        img_name=img_name_int+'.jpg'\n",
    "        image=io.imread(img_name)\n",
    "        label= self.labels_frame.iloc[idx,1]\n",
    "        image = image.transpose((2, 0, 1))\n",
    "        image = torch.from_numpy(image)\n",
    "        image = image.new_tensor(image, dtype = torch.float)\n",
    "        sample={'image':image, 'label': label}\n",
    "        \n",
    "        if self.transform:\n",
    "            sample=self.transform(sample)\n",
    "        return sample"
   ]
  },
  {
   "cell_type": "code",
   "execution_count": 49,
   "metadata": {},
   "outputs": [],
   "source": [
    "Test_Dataset= TestLoad(excel_file='BDRW_train_2/labels.xls',root_dir='/home/sps/Rajdeep_pytorch/BDRW_train_2/')\n",
    "Train_Dataset=TrainLoad(excel_file='BDRW_train_2/labels.xls',root_dir='/home/sps/Rajdeep_pytorch/BDRW_train_1/')\n",
    "\n"
   ]
  },
  {
   "cell_type": "code",
   "execution_count": 50,
   "metadata": {},
   "outputs": [
    {
     "name": "stdout",
     "output_type": "stream",
     "text": [
      "245\n",
      "102\n"
     ]
    }
   ],
   "source": [
    "trainloader=DataLoader(Train_Dataset,batch_size=4,shuffle=True,drop_last=True)\n",
    "testloader=DataLoader(Test_Dataset,batch_size=4,shuffle=True,drop_last=True)\n",
    "print(str(len(trainloader)))\n",
    "print(len(testloader))"
   ]
  },
  {
   "cell_type": "markdown",
   "metadata": {},
   "source": [
    "# Defining LeNet Architecture"
   ]
  },
  {
   "cell_type": "code",
   "execution_count": 51,
   "metadata": {},
   "outputs": [
    {
     "name": "stdout",
     "output_type": "stream",
     "text": [
      "Net(\n",
      "  (conv1): Conv2d(3, 6, kernel_size=(5, 5), stride=(1, 1))\n",
      "  (pool): MaxPool2d(kernel_size=2, stride=2, padding=0, dilation=1, ceil_mode=False)\n",
      "  (conv2): Conv2d(6, 16, kernel_size=(5, 5), stride=(1, 1))\n",
      "  (fc1): Linear(in_features=400, out_features=120, bias=True)\n",
      "  (fc2): Linear(in_features=120, out_features=84, bias=True)\n",
      "  (fc3): Linear(in_features=84, out_features=10, bias=True)\n",
      ")\n"
     ]
    }
   ],
   "source": [
    "import torch.nn as nn\n",
    "import torch.nn.functional as F\n",
    "\n",
    "class Net(nn.Module):\n",
    "    def __init__(self):\n",
    "        super(Net,self).__init__()\n",
    "        self.conv1=nn.Conv2d(3,6,kernel_size = 5)           # 28*28*6\n",
    "        self.pool=nn.MaxPool2d(kernel_size = 2,stride = 2)  # 14*14*6\n",
    "        self.conv2=nn.Conv2d(6,16,kernel_size = 5)          # 10*10*16\n",
    "        self.fc1=nn.Linear(16*5*5,120)                      # 5*5*16\n",
    "        self.fc2=nn.Linear(120,84)\n",
    "        self.fc3=nn.Linear(84,10)\n",
    "        \n",
    "    def forward(self,x):\n",
    "        x=self.pool(F.relu(self.conv1(x)))\n",
    "        x=self.pool(F.relu(self.conv2(x)))\n",
    "        x=x.view(-1,16*5*5)\n",
    "        x=F.relu(self.fc1(x))\n",
    "        x=F.relu(self.fc2(x))\n",
    "        x=self.fc3(x)\n",
    "        return x\n",
    "    \n",
    "net=Net()\n",
    "        \n",
    "print(net)        "
   ]
  },
  {
   "cell_type": "markdown",
   "metadata": {},
   "source": [
    "# Defining the Loss criterion"
   ]
  },
  {
   "cell_type": "code",
   "execution_count": 52,
   "metadata": {},
   "outputs": [],
   "source": [
    "import torch.optim as optim\n",
    "\n",
    "criterion=nn.CrossEntropyLoss()\n",
    "optimiser=optim.Adam(net.parameters(), lr=1e-4)"
   ]
  },
  {
   "cell_type": "markdown",
   "metadata": {},
   "source": [
    "# Training the Net"
   ]
  },
  {
   "cell_type": "code",
   "execution_count": 53,
   "metadata": {},
   "outputs": [
    {
     "name": "stdout",
     "output_type": "stream",
     "text": [
      "Iteration: 1 /30  ;  Training Loss: 0.576606 ; Testing Acc: 33.010 ; Time consumed: 0m 4s \n",
      "Iteration: 2 /30  ;  Training Loss: 0.365891 ; Testing Acc: 51.456 ; Time consumed: 0m 3s \n",
      "Iteration: 3 /30  ;  Training Loss: 0.248343 ; Testing Acc: 67.718 ; Time consumed: 0m 3s \n",
      "Iteration: 4 /30  ;  Training Loss: 0.189183 ; Testing Acc: 74.272 ; Time consumed: 0m 3s \n",
      "Iteration: 5 /30  ;  Training Loss: 0.148625 ; Testing Acc: 75.728 ; Time consumed: 0m 2s \n",
      "Iteration: 6 /30  ;  Training Loss: 0.112180 ; Testing Acc: 81.311 ; Time consumed: 0m 3s \n",
      "Iteration: 7 /30  ;  Training Loss: 0.089436 ; Testing Acc: 82.039 ; Time consumed: 0m 3s \n",
      "Iteration: 8 /30  ;  Training Loss: 0.069499 ; Testing Acc: 84.951 ; Time consumed: 0m 3s \n",
      "Iteration: 9 /30  ;  Training Loss: 0.059163 ; Testing Acc: 86.893 ; Time consumed: 0m 2s \n",
      "Iteration: 10 /30  ;  Training Loss: 0.043773 ; Testing Acc: 84.466 ; Time consumed: 0m 2s \n",
      "Iteration: 11 /30  ;  Training Loss: 0.038045 ; Testing Acc: 89.078 ; Time consumed: 0m 3s \n",
      "Iteration: 12 /30  ;  Training Loss: 0.028028 ; Testing Acc: 87.621 ; Time consumed: 0m 3s \n",
      "Iteration: 13 /30  ;  Training Loss: 0.022428 ; Testing Acc: 88.350 ; Time consumed: 0m 3s \n",
      "Iteration: 14 /30  ;  Training Loss: 0.015336 ; Testing Acc: 87.621 ; Time consumed: 0m 3s \n",
      "Iteration: 15 /30  ;  Training Loss: 0.015989 ; Testing Acc: 87.864 ; Time consumed: 0m 3s \n",
      "Iteration: 16 /30  ;  Training Loss: 0.016944 ; Testing Acc: 87.136 ; Time consumed: 0m 3s \n",
      "Iteration: 17 /30  ;  Training Loss: 0.010278 ; Testing Acc: 87.864 ; Time consumed: 0m 3s \n",
      "Iteration: 18 /30  ;  Training Loss: 0.009234 ; Testing Acc: 88.350 ; Time consumed: 0m 3s \n",
      "Iteration: 19 /30  ;  Training Loss: 0.008140 ; Testing Acc: 87.379 ; Time consumed: 0m 3s \n",
      "Iteration: 20 /30  ;  Training Loss: 0.004337 ; Testing Acc: 87.621 ; Time consumed: 0m 3s \n",
      "Iteration: 21 /30  ;  Training Loss: 0.003126 ; Testing Acc: 88.350 ; Time consumed: 0m 2s \n",
      "Iteration: 22 /30  ;  Training Loss: 0.003665 ; Testing Acc: 88.350 ; Time consumed: 0m 2s \n",
      "Iteration: 23 /30  ;  Training Loss: 0.026653 ; Testing Acc: 84.466 ; Time consumed: 0m 3s \n",
      "Iteration: 24 /30  ;  Training Loss: 0.027388 ; Testing Acc: 83.981 ; Time consumed: 0m 3s \n",
      "Iteration: 25 /30  ;  Training Loss: 0.009287 ; Testing Acc: 87.379 ; Time consumed: 0m 3s \n",
      "Iteration: 26 /30  ;  Training Loss: 0.002723 ; Testing Acc: 88.350 ; Time consumed: 0m 2s \n",
      "Iteration: 27 /30  ;  Training Loss: 0.002072 ; Testing Acc: 88.107 ; Time consumed: 0m 3s \n",
      "Iteration: 28 /30  ;  Training Loss: 0.001848 ; Testing Acc: 88.835 ; Time consumed: 0m 3s \n",
      "Iteration: 29 /30  ;  Training Loss: 0.003268 ; Testing Acc: 87.864 ; Time consumed: 0m 3s \n",
      "Iteration: 30 /30  ;  Training Loss: 0.001825 ; Testing Acc: 87.864 ; Time consumed: 0m 2s \n",
      "Training completed in 1m 27s\n"
     ]
    },
    {
     "data": {
      "image/png": "[encoded data removed]",
      "text/plain": [
       "<matplotlib.figure.Figure at 0x7fb4d9175390>"
      ]
     },
     "metadata": {},
     "output_type": "display_data"
    },
    {
     "data": {
      "image/png": "[encoded data removed]",
      "text/plain": [
       "<matplotlib.figure.Figure at 0x7fb4d914c3d0>"
      ]
     },
     "metadata": {},
     "output_type": "display_data"
    }
   ],
   "source": [
    "from torch.autograd import Variable\n",
    "import time\n",
    "iterations = 30\n",
    "trainLoss = []\n",
    "testAcc = []\n",
    "start = time.time()\n",
    "for epoch in range(iterations):\n",
    "    epochStart = time.time()\n",
    "    runningLoss = 0    \n",
    "    net.train(True) # For training\n",
    "    for data in trainloader:\n",
    "        inputs,labels = data['image'], data['label']\n",
    "        # Wrap them in Variable\n",
    "        inputs, labels = Variable(inputs), Variable(labels)  \n",
    "       \n",
    "        # Initialize gradients to zero\n",
    "        optimiser.zero_grad()\n",
    "        # Feed-forward input data through the network        \n",
    "        outputs = net(inputs)        \n",
    "        # Compute loss/error\n",
    "        loss = criterion(outputs, labels)\n",
    "        # Backpropagate loss and compute gradients\n",
    "        loss.backward()\n",
    "        # Update the network parameters\n",
    "        optimiser.step()\n",
    "        # Accumulate loss per batch\n",
    "        runningLoss += loss.data[0]    \n",
    "    avgTrainLoss = runningLoss/980.0\n",
    "    trainLoss.append(avgTrainLoss)\n",
    "    \n",
    "    # Evaluating performance on test set for each epoch\n",
    "    net.train(False) # For testing [Affects batch-norm and dropout layers (if any)]\n",
    "    running_correct = 0\n",
    "    for data in testloader:\n",
    "        inputs,labels = data['image'], data['label']\n",
    "        # Wrap them in Variable\n",
    "        inputs = Variable(inputs)\n",
    "        outputs = net(inputs)\n",
    "        _, predicted = torch.max(outputs.data, 1)\n",
    "        #print('The predicted tensor: {}'.format(predicted))\n",
    "        #print('The predicted label: {}'.format(labels))\n",
    "        running_correct += (predicted == labels).sum()\n",
    "        #print(running_correct)\n",
    "        x=running_correct.data.numpy() \n",
    "    avgTestAcc = x/412.0\n",
    "    #print(avgTestAcc)\n",
    "    testAcc.append(avgTestAcc)\n",
    "        \n",
    "    # Plotting training loss vs Epochs\n",
    "    fig1 = plt.figure(1)        \n",
    "    plt.plot(range(epoch+1),trainLoss,'r-',label='train')        \n",
    "    if epoch==0:\n",
    "        plt.legend(loc='upper left')\n",
    "        plt.xlabel('Epochs')\n",
    "        plt.ylabel('Training loss')   \n",
    "    # Plotting testing accuracy vs Epochs\n",
    "    fig2 = plt.figure(2)        \n",
    "    plt.plot(range(epoch+1),testAcc,'g-',label='test')        \n",
    "    if epoch==0:\n",
    "        plt.legend(loc='upper left')\n",
    "        plt.xlabel('Epochs')\n",
    "        plt.ylabel('Testing accuracy')    \n",
    "    epochEnd = time.time()-epochStart\n",
    "    print('Iteration: {:.0f} /{:.0f}  ;  Training Loss: {:.6f} ; Testing Acc: {:.3f} ; Time consumed: {:.0f}m {:.0f}s '\\\n",
    "          .format(epoch + 1,iterations,avgTrainLoss,avgTestAcc*100,epochEnd//60,epochEnd%60))\n",
    "end = time.time()-start\n",
    "print('Training completed in {:.0f}m {:.0f}s'.format(end//60,end%60))\n"
   ]
  },
  {
   "cell_type": "code",
   "execution_count": null,
   "metadata": {},
   "outputs": [],
   "source": []
  }
 ],
 "metadata": {
  "kernelspec": {
   "display_name": "Python 2",
   "language": "python",
   "name": "python2"
  },
  "language_info": {
   "codemirror_mode": {
    "name": "ipython",
    "version": 2
   },
   "file_extension": ".py",
   "mimetype": "text/x-python",
   "name": "python",
   "nbconvert_exporter": "python",
   "pygments_lexer": "ipython2",
   "version": "2.7.14"
  }
 },
 "nbformat": 4,
 "nbformat_minor": 2
}
